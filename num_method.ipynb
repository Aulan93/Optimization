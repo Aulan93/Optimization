{
 "cells": [
  {
   "cell_type": "code",
   "execution_count": 1,
   "id": "a05348d5",
   "metadata": {},
   "outputs": [],
   "source": [
    "import torch\n",
    "import torch.nn as nn\n",
    "import torch.optim as optim\n",
    "\n",
    "import numpy as np\n",
    "import itertools\n",
    "\n",
    "import matplotlib.pyplot as plt\n",
    "from sklearn.model_selection import train_test_split"
   ]
  },
  {
   "cell_type": "code",
   "execution_count": 2,
   "id": "9c5094fb",
   "metadata": {},
   "outputs": [
    {
     "name": "stdout",
     "output_type": "stream",
     "text": [
      "<class 'tuple'>\n",
      "[-1, -1, -1, -1, -1, -1, -1, -1, -1, -1, -1, -1, -1, -1, -1, 1]\n"
     ]
    }
   ],
   "source": [
    "# Each ball can be either -1 or +1\n",
    "options = [-1, 1]\n",
    "\n",
    "# Generate all possible configurations\n",
    "all_configurations = list(itertools.product(options, repeat=16))\n",
    "print (type(all_configurations[1]))\n",
    "print (list(all_configurations[1]))"
   ]
  },
  {
   "cell_type": "code",
   "execution_count": 4,
   "id": "078403e4",
   "metadata": {},
   "outputs": [],
   "source": [
    "def right_side(b, b1, b2, b3, b4, w15, w16, w116, w11, w27, w28, w29, w22, w310, w311, w312, w33, w413, w414, w415, w44, w1, w2, w3, w4):\n",
    "    x = all_configurations[1]\n",
    "    m = torch.tensor(0 + 1j) * torch.pi / 4\n",
    "#     for i in range(len(x)):\n",
    "    return (torch.cosh(torch.tensor(b1 + w15*x[4] + w16*x[5] + w116*x[15] - w11*x[0]))*\n",
    "               torch.cosh(torch.tensor(b2 + w27*x[6] + w28*x[7] + w29*x[8] - w22*x[1]))*\n",
    "                torch.cosh(torch.tensor(b3 + w310*x[9] + w311*x[10] + w312*x[11] - w33*x[2]))*\n",
    "                torch.cosh(torch.tensor(b4 + w413*x[12] + w414*x[13] + w415*x[14] - w44*x[3]))*\n",
    "                torch.cosh(torch.tensor(b - w1*x[0] - w2*x[1] - w3*x[2] - w4*x[3]))* \n",
    "                torch.cosh(m*torch.tensor(x[14] + x[15] - x[0] - x[3]))*torch.cosh(m*torch.tensor(x[6] + x[7] - x[0] - x[1]))*\n",
    "                torch.cosh(m*torch.tensor(x[11] + x[12] - x[2] - x[3]))* torch.cosh(m*torch.tensor(x[8] + x[9] - x[1] - x[2]))\n",
    ")"
   ]
  },
  {
   "cell_type": "code",
   "execution_count": 4,
   "id": "f30f2c45",
   "metadata": {},
   "outputs": [
    {
     "data": {
      "text/plain": [
       "tensor(-4.3711e-08+0.j)"
      ]
     },
     "execution_count": 4,
     "metadata": {},
     "output_type": "execute_result"
    }
   ],
   "source": [
    "a = right_side(0,0,0,0,0,0,0,0,0,0,0,0,0,0,0,0,0,0,0,0,0,0,0,0,0)\n",
    "a"
   ]
  },
  {
   "cell_type": "code",
   "execution_count": null,
   "id": "1e1875f0",
   "metadata": {},
   "outputs": [],
   "source": []
  },
  {
   "cell_type": "code",
   "execution_count": 5,
   "id": "43ed2bd5",
   "metadata": {},
   "outputs": [],
   "source": [
    "def left_side(b, b1, b2, b3, b4, w15, w16, w116, w11, w27, w28, w29, w22, w310, w311, w312, w33, w413, w414, w415, w44, w1, w2, w3, w4):\n",
    "    x = all_configurations[1]\n",
    "    m = torch.tensor(0 + 1j) * torch.pi / 4\n",
    "    for i in range(len(x)):\n",
    "        return (torch.cosh(torch.tensor(b1 + w15*x[4] + w16*x[5] + w116*x[15] + w11*x[0]))*\n",
    "               torch.cosh(torch.tensor(b2 + w27*x[6] + w28*x[7] + w29*x[8] + w22*x[1]))*\n",
    "                torch.cosh(torch.tensor(b3 + w310*x[9] + w311*x[10] + w312*x[11] + w33*x[2]))*\n",
    "                torch.cosh(torch.tensor(b4 + w413*x[12] + w414*x[13] + w415*x[14] + w44*x[3]))*\n",
    "                torch.cosh(torch.tensor(b + w1*x[0] + w2*x[1] + w3*x[2] + w4*x[3]))* \n",
    "                torch.cosh(m*torch.tensor(x[14] + x[15] + x[0] + x[3]))*torch.cosh(m*torch.tensor(x[6] + x[7] + x[0] + x[1]))*\n",
    "                torch.cosh(m*torch.tensor(x[11] + x[12] + x[2] + x[3]))* torch.cosh(m*torch.tensor(x[8] + x[9] + x[1] + x[2]))\n",
    ")"
   ]
  },
  {
   "cell_type": "code",
   "execution_count": 6,
   "id": "65954ee3",
   "metadata": {},
   "outputs": [
    {
     "data": {
      "text/plain": [
       "tensor(4.3711e-08+0.j)"
      ]
     },
     "execution_count": 6,
     "metadata": {},
     "output_type": "execute_result"
    }
   ],
   "source": [
    "b = left_side(0,0,0,0,0,0,0,0,0,0,0,0,0,0,0,0,0,0,0,0,0,0,0,0,0)\n",
    "b"
   ]
  },
  {
   "cell_type": "code",
   "execution_count": 5,
   "id": "839ebb47",
   "metadata": {},
   "outputs": [],
   "source": [
    "def opt_func(b, b1, b2, b3, b4, w15, w16, w116, w11, w27, w28, w29, w22, w310, w311, w312, w33, w413, w414, w415, w44, w1, w2, w3, w4):\n",
    "    m = torch.tensor(0 + 1j) * torch.pi / 4\n",
    "    right_side = []\n",
    "    left_side = []\n",
    "    # Each spin can be either -1 or +1\n",
    "    options = [-1, 1]\n",
    "\n",
    "    # Generate all possible configurations\n",
    "    all_configurations = list(itertools.product(options, repeat=16))\n",
    "    \n",
    "    # Write each side of the equations based on the configurations\n",
    "    for i in range(len(all_configurations)):\n",
    "        conf = all_configurations[i]\n",
    "        # Write the right hand side of each equation\n",
    "        right_side.append(torch.cosh(torch.tensor(b1 + w15*conf[4] + w16*conf[5] + w116*conf[15] - w11*conf[0]))*\n",
    "               torch.cosh(torch.tensor(b2 + w27*conf[6] + w28*conf[7] + w29*conf[8] - w22*conf[1]))*\n",
    "                torch.cosh(torch.tensor(b3 + w310*conf[9] + w311*conf[10] + w312*conf[11] - w33*conf[2]))*\n",
    "                torch.cosh(torch.tensor(b4 + w413*conf[12] + w414*conf[13] + w415*conf[14] - w44*conf[3]))*\n",
    "                torch.cosh(torch.tensor(b - w1*conf[0] - w2*conf[1] - w3*conf[2] - w4*conf[3]))* \n",
    "                torch.cosh(m*torch.tensor(conf[14] + conf[15] - conf[0] - conf[3]))*\n",
    "                  torch.cosh(m*torch.tensor(conf[6] + conf[7] - conf[0] - conf[1]))*\n",
    "                torch.cosh(m*torch.tensor(conf[11] + conf[12] - conf[2] - conf[3]))* \n",
    "                  torch.cosh(m*torch.tensor(conf[8] + conf[9] - conf[1] - conf[2])))\n",
    "    \n",
    "        # Write the left hand side of each equation\n",
    "        left_side.append(torch.cosh(torch.tensor(b1 + w15*conf[4] + w16*conf[5] + w116*conf[15] + w11*conf[0]))*\n",
    "               torch.cosh(torch.tensor(b2 + w27*conf[6] + w28*conf[7] + w29*conf[8] + w22*conf[1]))*\n",
    "                torch.cosh(torch.tensor(b3 + w310*conf[9] + w311*conf[10] + w312*conf[11] + w33*conf[2]))*\n",
    "                torch.cosh(torch.tensor(b4 + w413*conf[12] + w414*conf[13] + w415*conf[14] + w44*conf[3]))*\n",
    "                torch.cosh(torch.tensor(b + w1*conf[0] + w2*conf[1] + w3*conf[2] + w4*conf[3]))* \n",
    "                torch.cosh(m*torch.tensor(conf[14] + conf[15] + conf[0] + conf[3]))*\n",
    "                  torch.cosh(m*torch.tensor(conf[6] + conf[7] + conf[0] + conf[1]))*\n",
    "                torch.cosh(m*torch.tensor(conf[11] + conf[12] + conf[2] + conf[3]))* \n",
    "                  torch.cosh(m*torch.tensor(conf[8] + conf[9] + conf[1] + conf[2])))\n",
    "    #print (len(right_side), len(left_side))\n",
    "    # Write the optimization function\n",
    "    subs = [(a - b)**2 for a, b in zip(left_side, right_side)]\n",
    "    loss = sum(subs)\n",
    "    \n",
    "    return torch.abs(loss)"
   ]
  },
  {
   "cell_type": "code",
   "execution_count": null,
   "id": "21ddaf7e",
   "metadata": {},
   "outputs": [],
   "source": []
  },
  {
   "cell_type": "code",
   "execution_count": null,
   "id": "d8adf37b",
   "metadata": {},
   "outputs": [],
   "source": []
  },
  {
   "cell_type": "code",
   "execution_count": 2,
   "id": "5d508ead",
   "metadata": {},
   "outputs": [],
   "source": [
    "def non_linear(b, b1, b2, b3, b4, w15, w16, w116, w11, w27, w28, w29, w22, w310, w311, w312, w33, w413, w414, w415, w44, w1, w2, w3, w4):\n",
    "    \n",
    "    # initialization\n",
    "    m = torch.tensor(complex(0, torch.pi/4))\n",
    "    right_side = []\n",
    "    left_side = []\n",
    "    \n",
    "    # Each spin can be either -1 or +1\n",
    "    options = [-1, 1]\n",
    "\n",
    "    # Generate all possible configurations\n",
    "    all_configurations = list(itertools.product(options, repeat=16))\n",
    "    \n",
    "    # Write each side of the equations based on the configurations\n",
    "    for i in range(len(all_configurations)):\n",
    "        conf = all_configurations[i]\n",
    "        conf_tensor = torch.tensor(conf, dtype=torch.float32)\n",
    "        \n",
    "        # creating complex tensors\n",
    "        z1 = torch.complex(b1, w15*conf_tensor[4] + w16*conf_tensor[5] + w116*conf_tensor[15] - w11*conf_tensor[0])\n",
    "        z2 = torch.complex(b2, w27*conf_tensor[6] + w28*conf_tensor[7] + w29*conf_tensor[8] - w22*conf_tensor[1])\n",
    "        z3 = torch.complex(b3, w310*conf_tensor[9] + w311*conf_tensor[10] + w312*conf_tensor[11] - w33*conf_tensor[2])\n",
    "        z4 = torch.complex(b4, w413*conf_tensor[12] + w414*conf_tensor[13] + w415*conf_tensor[14] - w44*conf_tensor[3])\n",
    "        z = torch.complex(b, - w1*conf_tensor[0] - w2*conf_tensor[1] - w3*conf_tensor[2] - w4*conf_tensor[3])\n",
    "\n",
    "        a1 = torch.complex(b1, w15*conf_tensor[4] + w16*conf_tensor[5] + w116*conf_tensor[15] + w11*conf_tensor[0])\n",
    "        a2 = torch.complex(b2, w27*conf_tensor[6] + w28*conf_tensor[7] + w29*conf_tensor[8] + w22*conf_tensor[1])\n",
    "        a3 = torch.complex(b3, w310*conf_tensor[9] + w311*conf_tensor[10] + w312*conf_tensor[11] + w33*conf_tensor[2])\n",
    "        a4 = torch.complex(b4, w413*conf_tensor[12] + w414*conf_tensor[13] + w415*conf_tensor[14] + w44*conf_tensor[3])\n",
    "        a = torch.complex(b, + w1*conf_tensor[0] + w2*conf_tensor[1] + w3*conf_tensor[2] + w4*conf_tensor[3])\n",
    "\n",
    "        # Write the right hand side of each equation\n",
    "        right_side.append(torch.cosh(a)*torch.cosh(a1)*torch.cosh(a2)*torch.cosh(a3)*torch.cosh(a4)*\n",
    "                         torch.cosh(m*torch.complex(conf_tensor[14] + conf_tensor[15] - conf_tensor[0] - conf_tensor[3], torch.tensor(0.0)))*\n",
    "                         torch.cosh(m*torch.complex(conf_tensor[6] + conf_tensor[7] - conf_tensor[0] - conf_tensor[1], torch.tensor(0.0)))*\n",
    "                         torch.cosh(m*torch.complex(conf_tensor[11] + conf_tensor[12] - conf_tensor[2] - conf_tensor[3], torch.tensor(0.0)))*\n",
    "                         torch.cosh(m*torch.complex(conf_tensor[8] + conf_tensor[9] - conf_tensor[1] - conf_tensor[2], torch.tensor(0.0))) \n",
    "                         )\n",
    "        \n",
    "        # write teh left hand side of each equation\n",
    "        left_side.append(torch.cosh(z)*torch.cosh(z1)*torch.cosh(z2)*torch.cosh(z3)*torch.cosh(z4)*\n",
    "                         torch.cosh(m*torch.complex(conf_tensor[14] + conf_tensor[15] - conf_tensor[0] - conf_tensor[3], torch.tensor(0.0)))*\n",
    "                         torch.cosh(m*torch.complex(conf_tensor[6] + conf_tensor[7] - conf_tensor[0] - conf_tensor[1], torch.tensor(0.0)))*\n",
    "                         torch.cosh(m*torch.complex(conf_tensor[11] + conf_tensor[12] - conf_tensor[2] - conf_tensor[3], torch.tensor(0.0)))*\n",
    "                         torch.cosh(m*torch.complex(conf_tensor[8] + conf_tensor[9] - conf_tensor[1] - conf_tensor[2], torch.tensor(0.0))) \n",
    "                         )\n",
    "    \n",
    "    # Write the optimization function\n",
    "    subs = [(a - b)**2 for a, b in zip(left_side, right_side)]\n",
    "    loss = sum(subs)\n",
    "    \n",
    "    return torch.abs(loss)"
   ]
  },
  {
   "cell_type": "code",
   "execution_count": null,
   "id": "da3afb58",
   "metadata": {},
   "outputs": [],
   "source": []
  },
  {
   "cell_type": "code",
   "execution_count": null,
   "id": "cd00ab33",
   "metadata": {},
   "outputs": [],
   "source": [
    "# Neural Network architecture\n",
    "class Net(nn.Module):\n",
    "    def __init__(self):\n",
    "        super(Net, self).__init__()\n",
    "        self.fc1 = nn.Linear(25, 100)\n",
    "        self.fc2 = nn.Linear(100, 25)\n",
    "\n",
    "    def forward(self, x):\n",
    "        x = torch.relu(self.fc1(x))\n",
    "        return self.fc2(x)\n",
    "\n",
    "# Initialize the neural network\n",
    "net = Net()\n",
    "\n",
    "# Generate training data\n",
    "x = torch.rand(1200, 25)\n",
    "\n",
    "# Split data into training and validation sets\n",
    "x_train, x_val = train_test_split(x.numpy(), test_size=0.2, random_state=42)\n",
    "x_train, x_val = torch.tensor(x_train, dtype=torch.float32), torch.tensor(x_val, dtype=torch.float32)\n",
    "\n",
    "# Loss and optimizer\n",
    "criterion = nn.MSELoss()\n",
    "optimizer = optim.Adam(net.parameters(), lr=0.01)\n",
    "\n",
    "# Lists to store loss values\n",
    "train_losses = []\n",
    "val_losses = []\n",
    "\n",
    "# Training loop\n",
    "for epoch in range(1000):\n",
    "    optimizer.zero_grad()\n",
    "\n",
    "    # Forward pass with training data\n",
    "    inputs_train = net(x_train)\n",
    "    outputs_train = non_linear(inputs_train[:, 0], inputs_train[:, 1], inputs_train[:, 2], inputs_train[:, 3], inputs_train[:, 4], inputs_train[:, 5], inputs_train[:, 6],\n",
    "                             inputs_train[:, 7], inputs_train[:, 8], inputs_train[:, 9], inputs_train[:, 10], inputs_train[:, 11], inputs_train[:, 12], inputs_train[:, 13],\n",
    "                             inputs_train[:, 14], inputs_train[:, 15], inputs_train[:, 16], inputs_train[:, 17], inputs_train[:, 18], inputs_train[:, 18], inputs_train[:, 20],\n",
    "                             inputs_train[:, 21], inputs_train[:, 22], inputs_train[:, 23], inputs_train[:, 24])\n",
    "    loss_train = criterion(outputs_train, torch.zeros(outputs_train.size(), dtype=torch.float32))\n",
    "    loss_train.backward()\n",
    "    optimizer.step()\n",
    "\n",
    "    # Validation\n",
    "    with torch.no_grad():\n",
    "        inputs_val = net(x_val)\n",
    "        outputs_val = non_linear(inputs_val[:, 0], inputs_val[:, 1], inputs_val[:, 2], inputs_val[:, 3], inputs_val[:, 4], inputs_val[:, 5], inputs_val[:, 6],\n",
    "                               inputs_val[:, 7], inputs_val[:, 8], inputs_val[:, 9], inputs_val[:, 10], inputs_val[:, 11], inputs_val[:, 12], inputs_val[:, 13],\n",
    "                               inputs_val[:, 14], inputs_val[:, 15], inputs_val[:, 16], inputs_val[:, 17], inputs_val[:, 18], inputs_val[:, 18], inputs_val[:, 20],\n",
    "                               inputs_val[:, 21], inputs_val[:, 22], inputs_val[:, 23], inputs_val[:, 24])\n",
    "        loss_val = criterion(outputs_val, torch.zeros(outputs_val.size(), dtype=torch.float32))\n",
    "\n",
    "    train_losses.append(loss_train.item())\n",
    "    val_losses.append(loss_val.item())\n",
    "\n",
    "    print(f'Epoch {epoch}, Training Loss: {loss_train.item()}, Validation Loss: {loss_val.item()}')\n",
    "\n",
    "# Plot the training and validation loss\n",
    "plt.plot(train_losses, label='Training Loss')\n",
    "plt.plot(val_losses, label='Validation Loss')\n",
    "plt.xlabel('Epoch')\n",
    "plt.ylabel('Loss')\n",
    "plt.legend()\n",
    "plt.show()\n"
   ]
  },
  {
   "cell_type": "code",
   "execution_count": 31,
   "id": "aadab3b9",
   "metadata": {},
   "outputs": [
    {
     "data": {
      "text/plain": [
       "torch.Tensor"
      ]
     },
     "execution_count": 31,
     "metadata": {},
     "output_type": "execute_result"
    }
   ],
   "source": [
    "type(inputs_train)"
   ]
  },
  {
   "cell_type": "code",
   "execution_count": 14,
   "id": "7ea90e80",
   "metadata": {},
   "outputs": [
    {
     "name": "stdout",
     "output_type": "stream",
     "text": [
      "Optimal values for minimizing the function: [ 0.01971548  0.83678234  0.6873839  -0.06972719 -0.03705344 -0.8869992\n",
      "  0.8952646 ]\n",
      "y1, y2, y3, y4 in terms of multiples of π: 0.2663560902075841πi, -0.02219485386153145πi, -0.2823406111674357πi, 0.2849715810629769πi\n",
      "Minimized function output: 0.2280472368001938\n"
     ]
    }
   ],
   "source": [
    "# Predict the set of inputs that would minimize the function\n",
    "with torch.no_grad():\n",
    "    predicted_inputs = net(torch.zeros(1, 25))\n",
    "    optimal_values = predicted_inputs.numpy()[0]\n",
    "\n",
    "    # Scale y1, y2, y3, y4 to be in terms of multiples of pi\n",
    "    y1_scaled = optimal_values[1] / torch.pi\n",
    "    y2_scaled = optimal_values[3] / torch.pi\n",
    "    y3_scaled = optimal_values[5] / torch.pi\n",
    "    y4_scaled = optimal_values[6] / torch.pi\n",
    "\n",
    "    minimized_output = complex_function(predicted_inputs[0, 0], predicted_inputs[0, 1], predicted_inputs[0, 2], predicted_inputs[0, 3], predicted_inputs[0, 4], predicted_inputs[0, 5], predicted_inputs[0, 6])\n",
    "\n",
    "print(f'Optimal values for minimizing the function: {optimal_values}')\n",
    "print(f'y1, y2, y3, y4 in terms of multiples of π: {y1_scaled}πi, {y2_scaled}πi, {y3_scaled}πi, {y4_scaled}πi')\n",
    "print(f'Minimized function output: {minimized_output}')"
   ]
  },
  {
   "cell_type": "code",
   "execution_count": null,
   "id": "7b180709",
   "metadata": {},
   "outputs": [],
   "source": []
  },
  {
   "cell_type": "code",
   "execution_count": null,
   "id": "ff754d98",
   "metadata": {},
   "outputs": [],
   "source": []
  },
  {
   "cell_type": "code",
   "execution_count": null,
   "id": "f13e9908",
   "metadata": {},
   "outputs": [],
   "source": []
  },
  {
   "cell_type": "code",
   "execution_count": null,
   "id": "14550f6f",
   "metadata": {},
   "outputs": [],
   "source": []
  },
  {
   "cell_type": "code",
   "execution_count": null,
   "id": "0f8e79a7",
   "metadata": {},
   "outputs": [],
   "source": []
  },
  {
   "cell_type": "code",
   "execution_count": null,
   "id": "37ed19a2",
   "metadata": {},
   "outputs": [],
   "source": []
  },
  {
   "cell_type": "code",
   "execution_count": null,
   "id": "208292c1",
   "metadata": {},
   "outputs": [],
   "source": []
  },
  {
   "cell_type": "code",
   "execution_count": null,
   "id": "1963a29f",
   "metadata": {},
   "outputs": [],
   "source": []
  },
  {
   "cell_type": "code",
   "execution_count": 28,
   "id": "bfafe5cc",
   "metadata": {},
   "outputs": [
    {
     "data": {
      "text/plain": [
       "tensor(0.+3.j)"
      ]
     },
     "execution_count": 28,
     "metadata": {},
     "output_type": "execute_result"
    }
   ],
   "source": [
    "torch.complex(torch.tensor(0.0),torch.tensor(3.0))"
   ]
  },
  {
   "cell_type": "code",
   "execution_count": 25,
   "id": "b64079bf",
   "metadata": {},
   "outputs": [
    {
     "data": {
      "text/plain": [
       "array([[0.86083464, 0.86580223, 0.47939576, ..., 0.47617179, 0.55283667,\n",
       "        0.22405356],\n",
       "       [0.25728043, 0.64233345, 0.82027623, ..., 0.64278171, 0.2654959 ,\n",
       "        0.0150619 ],\n",
       "       [0.10663021, 0.7674752 , 0.25751682, ..., 0.47690235, 0.86420875,\n",
       "        0.03329501],\n",
       "       ...,\n",
       "       [0.55190602, 0.89107637, 0.35938802, ..., 0.42114102, 0.97121667,\n",
       "        0.0414624 ],\n",
       "       [0.87873069, 0.15128475, 0.17590508, ..., 0.59751187, 0.0941181 ,\n",
       "        0.19304587],\n",
       "       [0.57807521, 0.51380945, 0.41897232, ..., 0.5599062 , 0.08064351,\n",
       "        0.71741084]])"
      ]
     },
     "execution_count": 25,
     "metadata": {},
     "output_type": "execute_result"
    }
   ],
   "source": [
    "x = np.random.rand(1200, 25)\n",
    "x"
   ]
  },
  {
   "cell_type": "code",
   "execution_count": 24,
   "id": "584002b0",
   "metadata": {},
   "outputs": [
    {
     "data": {
      "text/plain": [
       "tensor([[0.7802, 0.1532, 0.9607,  ..., 0.9290, 0.1604, 0.8680],\n",
       "        [0.5478, 0.3615, 0.6994,  ..., 0.2662, 0.9042, 0.7127],\n",
       "        [0.6768, 0.7561, 0.4156,  ..., 0.0214, 0.0238, 0.7925],\n",
       "        ...,\n",
       "        [0.7368, 0.7269, 0.0720,  ..., 0.7282, 0.0201, 0.3742],\n",
       "        [0.0402, 0.8435, 0.0113,  ..., 0.5344, 0.3073, 0.8463],\n",
       "        [0.0196, 0.1232, 0.8481,  ..., 0.1411, 0.9525, 0.1716]])"
      ]
     },
     "execution_count": 24,
     "metadata": {},
     "output_type": "execute_result"
    }
   ],
   "source": [
    "a = torch.rand(1200,25)\n",
    "a"
   ]
  },
  {
   "cell_type": "code",
   "execution_count": null,
   "id": "b14be306",
   "metadata": {},
   "outputs": [],
   "source": []
  },
  {
   "cell_type": "code",
   "execution_count": null,
   "id": "86eb3276",
   "metadata": {},
   "outputs": [],
   "source": []
  }
 ],
 "metadata": {
  "kernelspec": {
   "display_name": "Python 3 (ipykernel)",
   "language": "python",
   "name": "python3"
  },
  "language_info": {
   "codemirror_mode": {
    "name": "ipython",
    "version": 3
   },
   "file_extension": ".py",
   "mimetype": "text/x-python",
   "name": "python",
   "nbconvert_exporter": "python",
   "pygments_lexer": "ipython3",
   "version": "3.7.13"
  }
 },
 "nbformat": 4,
 "nbformat_minor": 5
}
